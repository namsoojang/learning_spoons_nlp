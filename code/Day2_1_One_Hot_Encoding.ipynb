{
 "cells": [
  {
   "cell_type": "markdown",
   "metadata": {
    "colab_type": "text",
    "id": "9g0_drE8R86J"
   },
   "source": [
    "# One Hot Encoding"
   ]
  },
  {
   "cell_type": "code",
   "execution_count": null,
   "metadata": {},
   "outputs": [],
   "source": [
    "!pip install -q tensorflow-gpu==2.0.0-rc1"
   ]
  },
  {
   "cell_type": "code",
   "execution_count": 4,
   "metadata": {
    "colab": {},
    "colab_type": "code",
    "id": "G7A-KaN1R0Eb"
   },
   "outputs": [],
   "source": [
    "samples = [\"철수은 축구를 좋아한다\",\n",
    "          \"영희은 축구를 싫어한다\",\n",
    "          \"철수은 도서관을 좋아한다\",\n",
    "          \"영희은 도서관을 싫어한다\",\n",
    "          \"철수은 공부를 좋아한다\",\n",
    "          \"영희은 공부를 싫어한다\",\n",
    "          \"철수은 축구를 좋아한다 영희은 축구를 싫어한다\"]"
   ]
  },
  {
   "cell_type": "markdown",
   "metadata": {
    "colab_type": "text",
    "id": "8es7Pr0oGF_0"
   },
   "source": [
    "### keras Preprocessing API 사용"
   ]
  },
  {
   "cell_type": "code",
   "execution_count": 5,
   "metadata": {},
   "outputs": [],
   "source": [
    "from tensorflow.keras import preprocessing\n",
    "\n",
    "tokenizer = preprocessing.text.Tokenizer()\n",
    "tokenizer.fit_on_texts(samples) \n",
    "sequences = tokenizer.texts_to_sequences(samples) \n",
    "\n",
    "word_to_index = tokenizer.word_index"
   ]
  },
  {
   "cell_type": "code",
   "execution_count": 6,
   "metadata": {
    "colab": {
     "base_uri": "https://localhost:8080/",
     "height": 70
    },
    "colab_type": "code",
    "executionInfo": {
     "elapsed": 486,
     "status": "ok",
     "timestamp": 1559964921042,
     "user": {
      "displayName": "ChangWook Jun",
      "photoUrl": "https://lh6.googleusercontent.com/-NHLAhAbNfPg/AAAAAAAAAAI/AAAAAAAAAEc/NDLQ8z7-qns/s64/photo.jpg",
      "userId": "00685987924881157185"
     },
     "user_tz": -540
    },
    "id": "iNHpoqaUFk0X",
    "outputId": "af975206-ebce-4fd5-9b8a-a895baf57d72"
   },
   "outputs": [
    {
     "name": "stdout",
     "output_type": "stream",
     "text": [
      "token_sentences : [[1, 2, 3], [4, 2, 5], [1, 6, 3], [4, 6, 5], [1, 7, 3], [4, 7, 5], [1, 2, 3, 4, 2, 5]]\n",
      "word_to_index : {'철수은': 1, '축구를': 2, '좋아한다': 3, '영희은': 4, '싫어한다': 5, '도서관을': 6, '공부를': 7}\n"
     ]
    }
   ],
   "source": [
    "print(f\"token_sentences : {sequences}\")\n",
    "print(f\"word_to_index : {word_to_index}\")"
   ]
  },
  {
   "cell_type": "code",
   "execution_count": 7,
   "metadata": {
    "colab": {
     "base_uri": "https://localhost:8080/",
     "height": 33
    },
    "colab_type": "code",
    "executionInfo": {
     "elapsed": 1458,
     "status": "ok",
     "timestamp": 1559964417306,
     "user": {
      "displayName": "ChangWook Jun",
      "photoUrl": "https://lh6.googleusercontent.com/-NHLAhAbNfPg/AAAAAAAAAAI/AAAAAAAAAEc/NDLQ8z7-qns/s64/photo.jpg",
      "userId": "00685987924881157185"
     },
     "user_tz": -540
    },
    "id": "QYdRso0AjbCP",
    "outputId": "f8114197-54b7-4252-b9ec-de1bcd839d17"
   },
   "outputs": [
    {
     "name": "stdout",
     "output_type": "stream",
     "text": [
      "{1: '철수은', 2: '축구를', 3: '좋아한다', 4: '영희은', 5: '싫어한다', 6: '도서관을', 7: '공부를'}\n"
     ]
    }
   ],
   "source": [
    "index_to_word = dict((i, w) for w, i in word_to_index.items())\n",
    "print(index_to_word)"
   ]
  },
  {
   "cell_type": "code",
   "execution_count": 8,
   "metadata": {
    "colab": {
     "base_uri": "https://localhost:8080/",
     "height": 54
    },
    "colab_type": "code",
    "executionInfo": {
     "elapsed": 621,
     "status": "ok",
     "timestamp": 1559965409637,
     "user": {
      "displayName": "ChangWook Jun",
      "photoUrl": "https://lh6.googleusercontent.com/-NHLAhAbNfPg/AAAAAAAAAAI/AAAAAAAAAEc/NDLQ8z7-qns/s64/photo.jpg",
      "userId": "00685987924881157185"
     },
     "user_tz": -540
    },
    "id": "KLKTWSZ6w4cT",
    "outputId": "007c6817-1262-4515-a2d1-d94801ba810f"
   },
   "outputs": [
    {
     "name": "stdout",
     "output_type": "stream",
     "text": [
      "[[0, 1, 0, 0, 0, 0, 0, 0], [0, 0, 1, 0, 0, 0, 0, 0], [0, 0, 0, 1, 0, 0, 0, 0]]\n"
     ]
    }
   ],
   "source": [
    "onehot_encodeds = list()\n",
    "\n",
    "for values in sequences:\n",
    "    onehot = list()\n",
    "    for val in values:\n",
    "        letter = [0] * (len(word_to_index) + 1) \n",
    "        letter[val] = 1\n",
    "        onehot.append(letter)\n",
    "    onehot_encodeds.append(onehot)\n",
    "\n",
    "print(onehot_encodeds[0])"
   ]
  },
  {
   "cell_type": "markdown",
   "metadata": {
    "colab_type": "text",
    "id": "_vWb6fRxidTo"
   },
   "source": [
    "### tensorflow onehot endcode 만들기"
   ]
  },
  {
   "cell_type": "code",
   "execution_count": 12,
   "metadata": {
    "colab": {
     "base_uri": "https://localhost:8080/",
     "height": 420
    },
    "colab_type": "code",
    "executionInfo": {
     "elapsed": 945,
     "status": "ok",
     "timestamp": 1559965487592,
     "user": {
      "displayName": "ChangWook Jun",
      "photoUrl": "https://lh6.googleusercontent.com/-NHLAhAbNfPg/AAAAAAAAAAI/AAAAAAAAAEc/NDLQ8z7-qns/s64/photo.jpg",
      "userId": "00685987924881157185"
     },
     "user_tz": -540
    },
    "id": "hOf363NhAE02",
    "outputId": "6e51934e-de66-4d44-fa9b-081d1bac0071",
    "scrolled": true
   },
   "outputs": [
    {
     "name": "stdout",
     "output_type": "stream",
     "text": [
      "origin sequence: [1, 2, 3]\n",
      "one-hot encoded sequence\n",
      "[[0. 1. 0. 0. 0. 0. 0. 0.]\n",
      " [0. 0. 1. 0. 0. 0. 0. 0.]\n",
      " [0. 0. 0. 1. 0. 0. 0. 0.]]\n",
      "\n",
      "==============================\n",
      "\n",
      "origin sequence: [4, 2, 5]\n",
      "one-hot encoded sequence\n",
      "[[0. 0. 0. 0. 1. 0. 0. 0.]\n",
      " [0. 0. 1. 0. 0. 0. 0. 0.]\n",
      " [0. 0. 0. 0. 0. 1. 0. 0.]]\n",
      "\n",
      "==============================\n",
      "\n",
      "origin sequence: [1, 6, 3]\n",
      "one-hot encoded sequence\n",
      "[[0. 1. 0. 0. 0. 0. 0. 0.]\n",
      " [0. 0. 0. 0. 0. 0. 1. 0.]\n",
      " [0. 0. 0. 1. 0. 0. 0. 0.]]\n",
      "\n",
      "==============================\n",
      "\n",
      "origin sequence: [4, 6, 5]\n",
      "one-hot encoded sequence\n",
      "[[0. 0. 0. 0. 1. 0. 0. 0.]\n",
      " [0. 0. 0. 0. 0. 0. 1. 0.]\n",
      " [0. 0. 0. 0. 0. 1. 0. 0.]]\n",
      "\n",
      "==============================\n",
      "\n",
      "origin sequence: [1, 7, 3]\n",
      "one-hot encoded sequence\n",
      "[[0. 1. 0. 0. 0. 0. 0. 0.]\n",
      " [0. 0. 0. 0. 0. 0. 0. 1.]\n",
      " [0. 0. 0. 1. 0. 0. 0. 0.]]\n",
      "\n",
      "==============================\n",
      "\n",
      "origin sequence: [4, 7, 5]\n",
      "one-hot encoded sequence\n",
      "[[0. 0. 0. 0. 1. 0. 0. 0.]\n",
      " [0. 0. 0. 0. 0. 0. 0. 1.]\n",
      " [0. 0. 0. 0. 0. 1. 0. 0.]]\n",
      "\n",
      "==============================\n",
      "\n",
      "origin sequence: [1, 2, 3, 4, 2, 5]\n",
      "one-hot encoded sequence\n",
      "[[0. 1. 0. 0. 0. 0. 0. 0.]\n",
      " [0. 0. 1. 0. 0. 0. 0. 0.]\n",
      " [0. 0. 0. 1. 0. 0. 0. 0.]\n",
      " [0. 0. 0. 0. 1. 0. 0. 0.]\n",
      " [0. 0. 1. 0. 0. 0. 0. 0.]\n",
      " [0. 0. 0. 0. 0. 1. 0. 0.]]\n",
      "\n",
      "==============================\n",
      "\n"
     ]
    }
   ],
   "source": [
    "import tensorflow as tf\n",
    "\n",
    "for sequence in sequences:\n",
    "    onehot_encoded = tf.one_hot(indices=sequence, depth=len(word_to_index)+1)\n",
    "    print(f'origin sequence: {sequence}')\n",
    "    print(f'one-hot encoded sequence\\n{onehot_encoded}')\n",
    "    print('\\n'+'='*30+'\\n')"
   ]
  }
 ],
 "metadata": {
  "colab": {
   "collapsed_sections": [],
   "name": "Day2_1_One_Hot_Encoding.ipynb",
   "provenance": [],
   "version": "0.3.2"
  },
  "kernelspec": {
   "display_name": "Python 3",
   "language": "python",
   "name": "python3"
  },
  "language_info": {
   "codemirror_mode": {
    "name": "ipython",
    "version": 3
   },
   "file_extension": ".py",
   "mimetype": "text/x-python",
   "name": "python",
   "nbconvert_exporter": "python",
   "pygments_lexer": "ipython3",
   "version": "3.6.8"
  }
 },
 "nbformat": 4,
 "nbformat_minor": 1
}
